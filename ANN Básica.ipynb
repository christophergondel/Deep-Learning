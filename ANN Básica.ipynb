{
  "nbformat": 4,
  "nbformat_minor": 0,
  "metadata": {
    "colab": {
      "name": "TensorFlow.ipynb",
      "provenance": [],
      "collapsed_sections": []
    },
    "kernelspec": {
      "name": "python3",
      "display_name": "Python 3"
    }
  },
  "cells": [
    {
      "cell_type": "code",
      "metadata": {
        "id": "avaIeyLcDF7F"
      },
      "source": [
        "#Importamos las librerías para pre-procesar el set de datos\r\n",
        "import tensorflow as tf \r\n",
        "import warnings\r\n",
        "warnings.simplefilter(action='ignore', category=FutureWarning)\r\n",
        "import pandas as pd\r\n",
        "from __future__ import absolute_import, division, print_function, unicode_literals\r\n",
        "import numpy as np\r\n",
        "import seaborn as sns\r\n",
        "import matplotlib.pyplot as plt\r\n",
        "import keras\r\n",
        "from keras.models import Sequential\r\n",
        "from keras.layers import Dense, Dropout, Activation\r\n"
      ],
      "execution_count": null,
      "outputs": []
    },
    {
      "cell_type": "markdown",
      "metadata": {
        "id": "V4zqEwnNwbQO"
      },
      "source": [
        "El set de datos que vamos a utilizar es el conocido Iris Dataset. Vamos a cargar dos dataframes, el de entrenamiento y el de testeo.\r\n",
        "Las columnas serán 5: Sepal Length, Sepal Width, Petal Length, Petal Width y Species. \r\n",
        "La columna de Species será la columna que debemos predecir, y tomará los valores: Setosa, Versicolor o Virginica (0,1,2)."
      ]
    },
    {
      "cell_type": "code",
      "metadata": {
        "id": "07YSiBGcwW-y"
      },
      "source": [
        "train_path = tf.keras.utils.get_file(\"iris_training.csv\", \"https://storage.googleapis.com/download.tensorflow.org/data/iris_training.csv\")\r\n",
        "test_path = tf.keras.utils.get_file(\"iris_test.csv\", \"https://storage.googleapis.com/download.tensorflow.org/data/iris_test.csv\")\r\n",
        "\r\n",
        "column_names = ['SepalLength', 'SepalWidth', 'PetalLength', 'PetalWidth','Species']\r\n",
        "X_columns = ['SepalLength', 'SepalWidth', 'PetalLength', 'PetalWidth']\r\n",
        "Y_column = ['Species']\r\n",
        "species = ['Setosa', 'Versicolor', 'Virginica']"
      ],
      "execution_count": null,
      "outputs": []
    },
    {
      "cell_type": "code",
      "metadata": {
        "id": "yEXzbRCIdHbc"
      },
      "source": [
        "df_train = pd.read_csv(train_path, names=column_names, header=0)\r\n",
        "df_test = pd.read_csv(test_path, names=column_names, header=0)\r\n"
      ],
      "execution_count": null,
      "outputs": []
    },
    {
      "cell_type": "code",
      "metadata": {
        "colab": {
          "base_uri": "https://localhost:8080/",
          "height": 204
        },
        "id": "r0a--ape4VK5",
        "outputId": "6078bc12-4e8f-42cc-81f7-bcdb2b5a3052"
      },
      "source": [
        "df_train.head()"
      ],
      "execution_count": null,
      "outputs": [
        {
          "output_type": "execute_result",
          "data": {
            "text/html": [
              "<div>\n",
              "<style scoped>\n",
              "    .dataframe tbody tr th:only-of-type {\n",
              "        vertical-align: middle;\n",
              "    }\n",
              "\n",
              "    .dataframe tbody tr th {\n",
              "        vertical-align: top;\n",
              "    }\n",
              "\n",
              "    .dataframe thead th {\n",
              "        text-align: right;\n",
              "    }\n",
              "</style>\n",
              "<table border=\"1\" class=\"dataframe\">\n",
              "  <thead>\n",
              "    <tr style=\"text-align: right;\">\n",
              "      <th></th>\n",
              "      <th>SepalLength</th>\n",
              "      <th>SepalWidth</th>\n",
              "      <th>PetalLength</th>\n",
              "      <th>PetalWidth</th>\n",
              "      <th>Species</th>\n",
              "    </tr>\n",
              "  </thead>\n",
              "  <tbody>\n",
              "    <tr>\n",
              "      <th>0</th>\n",
              "      <td>6.4</td>\n",
              "      <td>2.8</td>\n",
              "      <td>5.6</td>\n",
              "      <td>2.2</td>\n",
              "      <td>2</td>\n",
              "    </tr>\n",
              "    <tr>\n",
              "      <th>1</th>\n",
              "      <td>5.0</td>\n",
              "      <td>2.3</td>\n",
              "      <td>3.3</td>\n",
              "      <td>1.0</td>\n",
              "      <td>1</td>\n",
              "    </tr>\n",
              "    <tr>\n",
              "      <th>2</th>\n",
              "      <td>4.9</td>\n",
              "      <td>2.5</td>\n",
              "      <td>4.5</td>\n",
              "      <td>1.7</td>\n",
              "      <td>2</td>\n",
              "    </tr>\n",
              "    <tr>\n",
              "      <th>3</th>\n",
              "      <td>4.9</td>\n",
              "      <td>3.1</td>\n",
              "      <td>1.5</td>\n",
              "      <td>0.1</td>\n",
              "      <td>0</td>\n",
              "    </tr>\n",
              "    <tr>\n",
              "      <th>4</th>\n",
              "      <td>5.7</td>\n",
              "      <td>3.8</td>\n",
              "      <td>1.7</td>\n",
              "      <td>0.3</td>\n",
              "      <td>0</td>\n",
              "    </tr>\n",
              "  </tbody>\n",
              "</table>\n",
              "</div>"
            ],
            "text/plain": [
              "   SepalLength  SepalWidth  PetalLength  PetalWidth  Species\n",
              "0          6.4         2.8          5.6         2.2        2\n",
              "1          5.0         2.3          3.3         1.0        1\n",
              "2          4.9         2.5          4.5         1.7        2\n",
              "3          4.9         3.1          1.5         0.1        0\n",
              "4          5.7         3.8          1.7         0.3        0"
            ]
          },
          "metadata": {
            "tags": []
          },
          "execution_count": 33
        }
      ]
    },
    {
      "cell_type": "code",
      "metadata": {
        "colab": {
          "base_uri": "https://localhost:8080/"
        },
        "id": "FatYEL7dhni2",
        "outputId": "4c9adaf8-fe59-4527-cc2f-ba2a5ee09a2a"
      },
      "source": [
        "#Vamos a separar el set de datos en X e Y. \r\n",
        "\r\n",
        "X_train= df_train[X_columns]\r\n",
        "Y_train= df_train[Y_column]\r\n",
        "\r\n",
        "X_test = df_test[X_columns]\r\n",
        "Y_test = df_test[Y_column]\r\n",
        "\r\n",
        "print(X_train.shape)\r\n",
        "print(X_test.shape)\r\n",
        "\r\n"
      ],
      "execution_count": null,
      "outputs": [
        {
          "output_type": "stream",
          "text": [
            "(120, 1)\n",
            "(30, 4)\n"
          ],
          "name": "stdout"
        },
        {
          "output_type": "execute_result",
          "data": {
            "text/plain": [
              "Species\n",
              "2          42\n",
              "0          42\n",
              "1          36\n",
              "dtype: int64"
            ]
          },
          "metadata": {
            "tags": []
          },
          "execution_count": 44
        }
      ]
    },
    {
      "cell_type": "markdown",
      "metadata": {
        "id": "Mv5ssw_yy_I2"
      },
      "source": [
        "Vamos a visualizar los datos con un plot básico simplemente para ver la distribución de categorías. Esto es importante ya que nuestro modelo debe ser entrenado con un número de datos similar en cada categoría para evitar el overfitting, es decir, que se sobre-entrene para una determinada categoría y como consecuencia nos ofrezca resultados pobres a la hora de hacer predicciones."
      ]
    },
    {
      "cell_type": "code",
      "metadata": {
        "colab": {
          "base_uri": "https://localhost:8080/",
          "height": 575
        },
        "id": "j0t4ZleKzh33",
        "outputId": "0042d309-38c5-4e83-af98-19daac5787db"
      },
      "source": [
        "fig, axes = plt.subplots(1,2,figsize=(20,6)) \r\n",
        "# Plot del set de entrenamiento\r\n",
        "sns.countplot(Y_train.to_numpy(dtype=np.float64).reshape(-1), ax=axes[0]) #Convertimos el DF en un array numpy con dtype float.\r\n",
        "axes[0].set_title('Distribución de los ejemplos de entrenamiento ')\r\n",
        "axes[0].set_xlabel('Categorías')\r\n",
        "axes[0].set_ylabel('Cantidad')\r\n",
        "# Plot del set de testeo\r\n",
        "sns.countplot(Y_test.to_numpy(dtype=np.float64).reshape(-1), ax=axes[1])\r\n",
        "axes[1].set_title('Distribución de los ejemplos de testeo')\r\n",
        "axes[1].set_xlabel('Categorías')\r\n",
        "axes[1].set_ylabel('Cantidad')\r\n",
        "\r\n",
        "print(Y_train.value_counts())\r\n",
        "print(Y_test.value_counts())"
      ],
      "execution_count": null,
      "outputs": [
        {
          "output_type": "stream",
          "text": [
            "Species\n",
            "2          42\n",
            "0          42\n",
            "1          36\n",
            "dtype: int64\n",
            "Species\n",
            "1          14\n",
            "2           8\n",
            "0           8\n",
            "dtype: int64\n"
          ],
          "name": "stdout"
        },
        {
          "output_type": "display_data",
          "data": {
            "image/png": "[encoded data removed]",
            "text/plain": [
              "<Figure size 1440x432 with 2 Axes>"
            ]
          },
          "metadata": {
            "tags": [],
            "needs_background": "light"
          }
        }
      ]
    },
    {
      "cell_type": "markdown",
      "metadata": {
        "id": "a8r3fmh70jkU"
      },
      "source": [
        "A continuación podremos definir nuestro modelo. Pero antes, debemos pre-procesar las categorías de las especies y aplicar OneHotEncoding. Esto se puede hacer automáticamente con keras. \r\n",
        "Lo que queremos hacer es pasar de la siguiente representación: \\\\\r\n",
        "[0, 1, 2]  \\\\\r\n",
        "a la representación \\\\\r\n",
        "[ [1, 0, 0], [0, 1, 0], [0, 0, 1] ] \\\\\r\n",
        "\r\n",
        "Así tendremos una representación binaria."
      ]
    },
    {
      "cell_type": "code",
      "metadata": {
        "id": "QYm1M13c1IFa"
      },
      "source": [
        "Y_train_OH = keras.utils.to_categorical(Y_train,num_classes = 3)\r\n",
        "Y_test_OH = keras.utils.to_categorical(Y_test, num_classes= 3) "
      ],
      "execution_count": null,
      "outputs": []
    },
    {
      "cell_type": "code",
      "metadata": {
        "id": "O_AEAMorhw21"
      },
      "source": [
        "#Ahora definimos nuestro modelo a través de keras\r\n",
        "model = Sequential([\r\n",
        "                    Dense(64, input_shape=X_train.shape[1:],activation='relu'), #Primera capa con 64 neuronas\r\n",
        "                    Dropout(0.25), #Desactivamos neuronas arbitrariamente\r\n",
        "                    Dense(32, activation='relu'), #Capa con 32 neuronas\r\n",
        "                    Dropout(0.25),\r\n",
        "                    Dense(16, activation='relu'), #Capa con 16 neuronas\r\n",
        "                    Dropout(0.25),\r\n",
        "                    Dense(units=3 ,activation='softmax') #Capa de salida con activación Softmax. En este caso hago explícito el units para \r\n",
        "                                                          #concretar que son 3 categorías.\r\n",
        "])"
      ],
      "execution_count": null,
      "outputs": []
    },
    {
      "cell_type": "code",
      "metadata": {
        "id": "3xHSdTYG9nw_"
      },
      "source": [
        "#Seleccionamos un método para optimizar. Escogeré el optimizador Adam pero hay otras alternativas como el SGD o el RMS\r\n",
        "optimizer = keras.optimizers.Adam(learning_rate=0.001)\r\n",
        "model.compile(optimizer=optimizer, loss=\"CategoricalCrossentropy\", metrics=['accuracy']) "
      ],
      "execution_count": null,
      "outputs": []
    },
    {
      "cell_type": "code",
      "metadata": {
        "colab": {
          "base_uri": "https://localhost:8080/"
        },
        "id": "JEm5Gu6694Wk",
        "outputId": "bf1efcdb-9c88-47e1-9aac-c7139c2a7f7a"
      },
      "source": [
        "train_NN = model.fit(X_train, Y_train_OH, batch_size=32, epochs=150, shuffle=True)"
      ],
      "execution_count": null,
      "outputs": [
        {
          "output_type": "stream",
          "text": [
            "Epoch 1/150\n",
            "4/4 [==============================] - 1s 4ms/step - loss: 1.7364 - accuracy: 0.2896\n",
            "Epoch 2/150\n",
            "4/4 [==============================] - 0s 3ms/step - loss: 1.1980 - accuracy: 0.4098\n",
            "Epoch 3/150\n",
            "4/4 [==============================] - 0s 3ms/step - loss: 1.2135 - accuracy: 0.3619\n",
            "Epoch 4/150\n",
            "4/4 [==============================] - 0s 3ms/step - loss: 1.0520 - accuracy: 0.4756\n",
            "Epoch 5/150\n",
            "4/4 [==============================] - 0s 3ms/step - loss: 1.1209 - accuracy: 0.4721\n",
            "Epoch 6/150\n",
            "4/4 [==============================] - 0s 3ms/step - loss: 1.0352 - accuracy: 0.5121\n",
            "Epoch 7/150\n",
            "4/4 [==============================] - 0s 3ms/step - loss: 0.9520 - accuracy: 0.5277\n",
            "Epoch 8/150\n",
            "4/4 [==============================] - 0s 4ms/step - loss: 1.0120 - accuracy: 0.5104\n",
            "Epoch 9/150\n",
            "4/4 [==============================] - 0s 3ms/step - loss: 0.8862 - accuracy: 0.6467\n",
            "Epoch 10/150\n",
            "4/4 [==============================] - 0s 3ms/step - loss: 0.8918 - accuracy: 0.5825\n",
            "Epoch 11/150\n",
            "4/4 [==============================] - 0s 4ms/step - loss: 0.8547 - accuracy: 0.5813\n",
            "Epoch 12/150\n",
            "4/4 [==============================] - 0s 3ms/step - loss: 0.8394 - accuracy: 0.5794\n",
            "Epoch 13/150\n",
            "4/4 [==============================] - 0s 3ms/step - loss: 0.8080 - accuracy: 0.5890\n",
            "Epoch 14/150\n",
            "4/4 [==============================] - 0s 3ms/step - loss: 0.8681 - accuracy: 0.5892\n",
            "Epoch 15/150\n",
            "4/4 [==============================] - 0s 3ms/step - loss: 0.7592 - accuracy: 0.6300\n",
            "Epoch 16/150\n",
            "4/4 [==============================] - 0s 3ms/step - loss: 0.8042 - accuracy: 0.6315\n",
            "Epoch 17/150\n",
            "4/4 [==============================] - 0s 3ms/step - loss: 0.7559 - accuracy: 0.5392\n",
            "Epoch 18/150\n",
            "4/4 [==============================] - 0s 3ms/step - loss: 0.7196 - accuracy: 0.7096\n",
            "Epoch 19/150\n",
            "4/4 [==============================] - 0s 4ms/step - loss: 0.6931 - accuracy: 0.6525\n",
            "Epoch 20/150\n",
            "4/4 [==============================] - 0s 3ms/step - loss: 0.6105 - accuracy: 0.7102\n",
            "Epoch 21/150\n",
            "4/4 [==============================] - 0s 3ms/step - loss: 0.6793 - accuracy: 0.6417\n",
            "Epoch 22/150\n",
            "4/4 [==============================] - 0s 3ms/step - loss: 0.5777 - accuracy: 0.7471\n",
            "Epoch 23/150\n",
            "4/4 [==============================] - 0s 2ms/step - loss: 0.5941 - accuracy: 0.6965\n",
            "Epoch 24/150\n",
            "4/4 [==============================] - 0s 3ms/step - loss: 0.6372 - accuracy: 0.6656\n",
            "Epoch 25/150\n",
            "4/4 [==============================] - 0s 4ms/step - loss: 0.5759 - accuracy: 0.7675\n",
            "Epoch 26/150\n",
            "4/4 [==============================] - 0s 4ms/step - loss: 0.5429 - accuracy: 0.7290\n",
            "Epoch 27/150\n",
            "4/4 [==============================] - 0s 5ms/step - loss: 0.5727 - accuracy: 0.7119\n",
            "Epoch 28/150\n",
            "4/4 [==============================] - 0s 3ms/step - loss: 0.5514 - accuracy: 0.6585\n",
            "Epoch 29/150\n",
            "4/4 [==============================] - 0s 4ms/step - loss: 0.6078 - accuracy: 0.6683\n",
            "Epoch 30/150\n",
            "4/4 [==============================] - 0s 5ms/step - loss: 0.5510 - accuracy: 0.6819\n",
            "Epoch 31/150\n",
            "4/4 [==============================] - 0s 4ms/step - loss: 0.5306 - accuracy: 0.6992\n",
            "Epoch 32/150\n",
            "4/4 [==============================] - 0s 3ms/step - loss: 0.4814 - accuracy: 0.7375\n",
            "Epoch 33/150\n",
            "4/4 [==============================] - 0s 4ms/step - loss: 0.4944 - accuracy: 0.7865\n",
            "Epoch 34/150\n",
            "4/4 [==============================] - 0s 2ms/step - loss: 0.5266 - accuracy: 0.7275\n",
            "Epoch 35/150\n",
            "4/4 [==============================] - 0s 3ms/step - loss: 0.4868 - accuracy: 0.7667\n",
            "Epoch 36/150\n",
            "4/4 [==============================] - 0s 4ms/step - loss: 0.4508 - accuracy: 0.7371\n",
            "Epoch 37/150\n",
            "4/4 [==============================] - 0s 3ms/step - loss: 0.5100 - accuracy: 0.6792\n",
            "Epoch 38/150\n",
            "4/4 [==============================] - 0s 3ms/step - loss: 0.4899 - accuracy: 0.7629\n",
            "Epoch 39/150\n",
            "4/4 [==============================] - 0s 2ms/step - loss: 0.4289 - accuracy: 0.7704\n",
            "Epoch 40/150\n",
            "4/4 [==============================] - 0s 3ms/step - loss: 0.4025 - accuracy: 0.7592\n",
            "Epoch 41/150\n",
            "4/4 [==============================] - 0s 3ms/step - loss: 0.4844 - accuracy: 0.7585\n",
            "Epoch 42/150\n",
            "4/4 [==============================] - 0s 3ms/step - loss: 0.5223 - accuracy: 0.7202\n",
            "Epoch 43/150\n",
            "4/4 [==============================] - 0s 4ms/step - loss: 0.4401 - accuracy: 0.8010\n",
            "Epoch 44/150\n",
            "4/4 [==============================] - 0s 3ms/step - loss: 0.5154 - accuracy: 0.7406\n",
            "Epoch 45/150\n",
            "4/4 [==============================] - 0s 4ms/step - loss: 0.4528 - accuracy: 0.7521\n",
            "Epoch 46/150\n",
            "4/4 [==============================] - 0s 4ms/step - loss: 0.4286 - accuracy: 0.7958\n",
            "Epoch 47/150\n",
            "4/4 [==============================] - 0s 4ms/step - loss: 0.4214 - accuracy: 0.7860\n",
            "Epoch 48/150\n",
            "4/4 [==============================] - 0s 4ms/step - loss: 0.4437 - accuracy: 0.7704\n",
            "Epoch 49/150\n",
            "4/4 [==============================] - 0s 4ms/step - loss: 0.3551 - accuracy: 0.8410\n",
            "Epoch 50/150\n",
            "4/4 [==============================] - 0s 4ms/step - loss: 0.4374 - accuracy: 0.7706\n",
            "Epoch 51/150\n",
            "4/4 [==============================] - 0s 3ms/step - loss: 0.4671 - accuracy: 0.8183\n",
            "Epoch 52/150\n",
            "4/4 [==============================] - 0s 2ms/step - loss: 0.4119 - accuracy: 0.7890\n",
            "Epoch 53/150\n",
            "4/4 [==============================] - 0s 3ms/step - loss: 0.3987 - accuracy: 0.8033\n",
            "Epoch 54/150\n",
            "4/4 [==============================] - 0s 4ms/step - loss: 0.4328 - accuracy: 0.7956\n",
            "Epoch 55/150\n",
            "4/4 [==============================] - 0s 3ms/step - loss: 0.4337 - accuracy: 0.7744\n",
            "Epoch 56/150\n",
            "4/4 [==============================] - 0s 3ms/step - loss: 0.4061 - accuracy: 0.7754\n",
            "Epoch 57/150\n",
            "4/4 [==============================] - 0s 3ms/step - loss: 0.3876 - accuracy: 0.7992\n",
            "Epoch 58/150\n",
            "4/4 [==============================] - 0s 3ms/step - loss: 0.4083 - accuracy: 0.7698\n",
            "Epoch 59/150\n",
            "4/4 [==============================] - 0s 3ms/step - loss: 0.3710 - accuracy: 0.8269\n",
            "Epoch 60/150\n",
            "4/4 [==============================] - 0s 3ms/step - loss: 0.3655 - accuracy: 0.8142\n",
            "Epoch 61/150\n",
            "4/4 [==============================] - 0s 4ms/step - loss: 0.4269 - accuracy: 0.7981\n",
            "Epoch 62/150\n",
            "4/4 [==============================] - 0s 3ms/step - loss: 0.3529 - accuracy: 0.8342\n",
            "Epoch 63/150\n",
            "4/4 [==============================] - 0s 4ms/step - loss: 0.3554 - accuracy: 0.8025\n",
            "Epoch 64/150\n",
            "4/4 [==============================] - 0s 4ms/step - loss: 0.3513 - accuracy: 0.8302\n",
            "Epoch 65/150\n",
            "4/4 [==============================] - 0s 3ms/step - loss: 0.3515 - accuracy: 0.8473\n",
            "Epoch 66/150\n",
            "4/4 [==============================] - 0s 2ms/step - loss: 0.3805 - accuracy: 0.8142\n",
            "Epoch 67/150\n",
            "4/4 [==============================] - 0s 4ms/step - loss: 0.3405 - accuracy: 0.8348\n",
            "Epoch 68/150\n",
            "4/4 [==============================] - 0s 4ms/step - loss: 0.3042 - accuracy: 0.8894\n",
            "Epoch 69/150\n",
            "4/4 [==============================] - 0s 4ms/step - loss: 0.3555 - accuracy: 0.8871\n",
            "Epoch 70/150\n",
            "4/4 [==============================] - 0s 4ms/step - loss: 0.3045 - accuracy: 0.8479\n",
            "Epoch 71/150\n",
            "4/4 [==============================] - 0s 3ms/step - loss: 0.2981 - accuracy: 0.8498\n",
            "Epoch 72/150\n",
            "4/4 [==============================] - 0s 3ms/step - loss: 0.4027 - accuracy: 0.8196\n",
            "Epoch 73/150\n",
            "4/4 [==============================] - 0s 3ms/step - loss: 0.3268 - accuracy: 0.8819\n",
            "Epoch 74/150\n",
            "4/4 [==============================] - 0s 3ms/step - loss: 0.3141 - accuracy: 0.8767\n",
            "Epoch 75/150\n",
            "4/4 [==============================] - 0s 3ms/step - loss: 0.3011 - accuracy: 0.8879\n",
            "Epoch 76/150\n",
            "4/4 [==============================] - 0s 3ms/step - loss: 0.3250 - accuracy: 0.8558\n",
            "Epoch 77/150\n",
            "4/4 [==============================] - 0s 4ms/step - loss: 0.3308 - accuracy: 0.8610\n",
            "Epoch 78/150\n",
            "4/4 [==============================] - 0s 3ms/step - loss: 0.3335 - accuracy: 0.8598\n",
            "Epoch 79/150\n",
            "4/4 [==============================] - 0s 3ms/step - loss: 0.2798 - accuracy: 0.8917\n",
            "Epoch 80/150\n",
            "4/4 [==============================] - 0s 3ms/step - loss: 0.2604 - accuracy: 0.9040\n",
            "Epoch 81/150\n",
            "4/4 [==============================] - 0s 5ms/step - loss: 0.2391 - accuracy: 0.9273\n",
            "Epoch 82/150\n",
            "4/4 [==============================] - 0s 4ms/step - loss: 0.2866 - accuracy: 0.8775\n",
            "Epoch 83/150\n",
            "4/4 [==============================] - 0s 4ms/step - loss: 0.2778 - accuracy: 0.9008\n",
            "Epoch 84/150\n",
            "4/4 [==============================] - 0s 3ms/step - loss: 0.2237 - accuracy: 0.9371\n",
            "Epoch 85/150\n",
            "4/4 [==============================] - 0s 5ms/step - loss: 0.2674 - accuracy: 0.9144\n",
            "Epoch 86/150\n",
            "4/4 [==============================] - 0s 6ms/step - loss: 0.3592 - accuracy: 0.8208\n",
            "Epoch 87/150\n",
            "4/4 [==============================] - 0s 3ms/step - loss: 0.3355 - accuracy: 0.8400\n",
            "Epoch 88/150\n",
            "4/4 [==============================] - 0s 6ms/step - loss: 0.2769 - accuracy: 0.9123\n",
            "Epoch 89/150\n",
            "4/4 [==============================] - 0s 3ms/step - loss: 0.2708 - accuracy: 0.8906\n",
            "Epoch 90/150\n",
            "4/4 [==============================] - 0s 4ms/step - loss: 0.3098 - accuracy: 0.8910\n",
            "Epoch 91/150\n",
            "4/4 [==============================] - 0s 3ms/step - loss: 0.2640 - accuracy: 0.9337\n",
            "Epoch 92/150\n",
            "4/4 [==============================] - 0s 4ms/step - loss: 0.2819 - accuracy: 0.8983\n",
            "Epoch 93/150\n",
            "4/4 [==============================] - 0s 3ms/step - loss: 0.2650 - accuracy: 0.8865\n",
            "Epoch 94/150\n",
            "4/4 [==============================] - 0s 4ms/step - loss: 0.2973 - accuracy: 0.8931\n",
            "Epoch 95/150\n",
            "4/4 [==============================] - 0s 3ms/step - loss: 0.2861 - accuracy: 0.8879\n",
            "Epoch 96/150\n",
            "4/4 [==============================] - 0s 4ms/step - loss: 0.2129 - accuracy: 0.9254\n",
            "Epoch 97/150\n",
            "4/4 [==============================] - 0s 4ms/step - loss: 0.2430 - accuracy: 0.9212\n",
            "Epoch 98/150\n",
            "4/4 [==============================] - 0s 5ms/step - loss: 0.2575 - accuracy: 0.8940\n",
            "Epoch 99/150\n",
            "4/4 [==============================] - 0s 5ms/step - loss: 0.2288 - accuracy: 0.9319\n",
            "Epoch 100/150\n",
            "4/4 [==============================] - 0s 4ms/step - loss: 0.2108 - accuracy: 0.9450\n",
            "Epoch 101/150\n",
            "4/4 [==============================] - 0s 3ms/step - loss: 0.3179 - accuracy: 0.8425\n",
            "Epoch 102/150\n",
            "4/4 [==============================] - 0s 5ms/step - loss: 0.2403 - accuracy: 0.8952\n",
            "Epoch 103/150\n",
            "4/4 [==============================] - 0s 5ms/step - loss: 0.2177 - accuracy: 0.9046\n",
            "Epoch 104/150\n",
            "4/4 [==============================] - 0s 4ms/step - loss: 0.2054 - accuracy: 0.9069\n",
            "Epoch 105/150\n",
            "4/4 [==============================] - 0s 5ms/step - loss: 0.1521 - accuracy: 0.9881\n",
            "Epoch 106/150\n",
            "4/4 [==============================] - 0s 6ms/step - loss: 0.2753 - accuracy: 0.8933\n",
            "Epoch 107/150\n",
            "4/4 [==============================] - 0s 4ms/step - loss: 0.1795 - accuracy: 0.9496\n",
            "Epoch 108/150\n",
            "4/4 [==============================] - 0s 6ms/step - loss: 0.2008 - accuracy: 0.9165\n",
            "Epoch 109/150\n",
            "4/4 [==============================] - 0s 3ms/step - loss: 0.2111 - accuracy: 0.9298\n",
            "Epoch 110/150\n",
            "4/4 [==============================] - 0s 5ms/step - loss: 0.2046 - accuracy: 0.9625\n",
            "Epoch 111/150\n",
            "4/4 [==============================] - 0s 4ms/step - loss: 0.2354 - accuracy: 0.8948\n",
            "Epoch 112/150\n",
            "4/4 [==============================] - 0s 4ms/step - loss: 0.2154 - accuracy: 0.9106\n",
            "Epoch 113/150\n",
            "4/4 [==============================] - 0s 7ms/step - loss: 0.1857 - accuracy: 0.9210\n",
            "Epoch 114/150\n",
            "4/4 [==============================] - 0s 3ms/step - loss: 0.2005 - accuracy: 0.9246\n",
            "Epoch 115/150\n",
            "4/4 [==============================] - 0s 6ms/step - loss: 0.2651 - accuracy: 0.8983\n",
            "Epoch 116/150\n",
            "4/4 [==============================] - 0s 4ms/step - loss: 0.2119 - accuracy: 0.9167\n",
            "Epoch 117/150\n",
            "4/4 [==============================] - 0s 3ms/step - loss: 0.2133 - accuracy: 0.9508\n",
            "Epoch 118/150\n",
            "4/4 [==============================] - 0s 3ms/step - loss: 0.1891 - accuracy: 0.9379\n",
            "Epoch 119/150\n",
            "4/4 [==============================] - 0s 3ms/step - loss: 0.2187 - accuracy: 0.9019\n",
            "Epoch 120/150\n",
            "4/4 [==============================] - 0s 3ms/step - loss: 0.1499 - accuracy: 0.9742\n",
            "Epoch 121/150\n",
            "4/4 [==============================] - 0s 5ms/step - loss: 0.1985 - accuracy: 0.9369\n",
            "Epoch 122/150\n",
            "4/4 [==============================] - 0s 3ms/step - loss: 0.2435 - accuracy: 0.9040\n",
            "Epoch 123/150\n",
            "4/4 [==============================] - 0s 3ms/step - loss: 0.1768 - accuracy: 0.9454\n",
            "Epoch 124/150\n",
            "4/4 [==============================] - 0s 5ms/step - loss: 0.1830 - accuracy: 0.9471\n",
            "Epoch 125/150\n",
            "4/4 [==============================] - 0s 5ms/step - loss: 0.1415 - accuracy: 0.9581\n",
            "Epoch 126/150\n",
            "4/4 [==============================] - 0s 3ms/step - loss: 0.2254 - accuracy: 0.9350\n",
            "Epoch 127/150\n",
            "4/4 [==============================] - 0s 4ms/step - loss: 0.2233 - accuracy: 0.9223\n",
            "Epoch 128/150\n",
            "4/4 [==============================] - 0s 3ms/step - loss: 0.1931 - accuracy: 0.9277\n",
            "Epoch 129/150\n",
            "4/4 [==============================] - 0s 3ms/step - loss: 0.1782 - accuracy: 0.9475\n",
            "Epoch 130/150\n",
            "4/4 [==============================] - 0s 6ms/step - loss: 0.1902 - accuracy: 0.9252\n",
            "Epoch 131/150\n",
            "4/4 [==============================] - 0s 4ms/step - loss: 0.1365 - accuracy: 0.9538\n",
            "Epoch 132/150\n",
            "4/4 [==============================] - 0s 3ms/step - loss: 0.1521 - accuracy: 0.9529\n",
            "Epoch 133/150\n",
            "4/4 [==============================] - 0s 4ms/step - loss: 0.1666 - accuracy: 0.9337\n",
            "Epoch 134/150\n",
            "4/4 [==============================] - 0s 4ms/step - loss: 0.1653 - accuracy: 0.9621\n",
            "Epoch 135/150\n",
            "4/4 [==============================] - 0s 4ms/step - loss: 0.1213 - accuracy: 0.9685\n",
            "Epoch 136/150\n",
            "4/4 [==============================] - 0s 3ms/step - loss: 0.1911 - accuracy: 0.9223\n",
            "Epoch 137/150\n",
            "4/4 [==============================] - 0s 7ms/step - loss: 0.1742 - accuracy: 0.9365\n",
            "Epoch 138/150\n",
            "4/4 [==============================] - 0s 5ms/step - loss: 0.1972 - accuracy: 0.9250\n",
            "Epoch 139/150\n",
            "4/4 [==============================] - 0s 4ms/step - loss: 0.1402 - accuracy: 0.9565\n",
            "Epoch 140/150\n",
            "4/4 [==============================] - 0s 4ms/step - loss: 0.1606 - accuracy: 0.9465\n",
            "Epoch 141/150\n",
            "4/4 [==============================] - 0s 4ms/step - loss: 0.2432 - accuracy: 0.9244\n",
            "Epoch 142/150\n",
            "4/4 [==============================] - 0s 3ms/step - loss: 0.1821 - accuracy: 0.9592\n",
            "Epoch 143/150\n",
            "4/4 [==============================] - 0s 3ms/step - loss: 0.2143 - accuracy: 0.9413\n",
            "Epoch 144/150\n",
            "4/4 [==============================] - 0s 5ms/step - loss: 0.2486 - accuracy: 0.9410\n",
            "Epoch 145/150\n",
            "4/4 [==============================] - 0s 3ms/step - loss: 0.1566 - accuracy: 0.9504\n",
            "Epoch 146/150\n",
            "4/4 [==============================] - 0s 4ms/step - loss: 0.2434 - accuracy: 0.8583\n",
            "Epoch 147/150\n",
            "4/4 [==============================] - 0s 4ms/step - loss: 0.1131 - accuracy: 0.9946\n",
            "Epoch 148/150\n",
            "4/4 [==============================] - 0s 4ms/step - loss: 0.1786 - accuracy: 0.9210\n",
            "Epoch 149/150\n",
            "4/4 [==============================] - 0s 3ms/step - loss: 0.1303 - accuracy: 0.9423\n",
            "Epoch 150/150\n",
            "4/4 [==============================] - 0s 6ms/step - loss: 0.1386 - accuracy: 0.9858\n"
          ],
          "name": "stdout"
        }
      ]
    },
    {
      "cell_type": "code",
      "metadata": {
        "id": "sAcXIap6-OcE"
      },
      "source": [
        "#Vamos a hacer las predicciones y convertimos las predicciones binarias a categóricas\r\n",
        "Y_pred = model.predict(X_test)\r\n",
        "Y_pred_categories = np.argmax(Y_pred, axis=-1)"
      ],
      "execution_count": null,
      "outputs": []
    },
    {
      "cell_type": "code",
      "metadata": {
        "colab": {
          "base_uri": "https://localhost:8080/"
        },
        "id": "gn2HC5hICGTY",
        "outputId": "165cf8fc-63cb-4267-fd87-f2c9a92850d5"
      },
      "source": [
        "scores = model.evaluate(X_test, Y_test_OH)\r\n",
        "print(scores[0])\r\n",
        "print(scores[1])"
      ],
      "execution_count": null,
      "outputs": [
        {
          "output_type": "stream",
          "text": [
            "1/1 [==============================] - 0s 17ms/step - loss: 0.0962 - accuracy: 0.9667\n",
            "0.0961693748831749\n",
            "0.9666666388511658\n"
          ],
          "name": "stdout"
        }
      ]
    },
    {
      "cell_type": "code",
      "metadata": {
        "id": "u6GE1A7qCykY"
      },
      "source": [
        "from sklearn.metrics import classification_report"
      ],
      "execution_count": null,
      "outputs": []
    },
    {
      "cell_type": "code",
      "metadata": {
        "colab": {
          "base_uri": "https://localhost:8080/"
        },
        "id": "ZYCjU1U7C2dU",
        "outputId": "05be7212-d20d-4fd9-ee29-9a3c7cfef231"
      },
      "source": [
        "print(classification_report(Y_test, Y_pred_categories))"
      ],
      "execution_count": null,
      "outputs": [
        {
          "output_type": "stream",
          "text": [
            "              precision    recall  f1-score   support\n",
            "\n",
            "           0       1.00      1.00      1.00         8\n",
            "           1       1.00      0.93      0.96        14\n",
            "           2       0.89      1.00      0.94         8\n",
            "\n",
            "    accuracy                           0.97        30\n",
            "   macro avg       0.96      0.98      0.97        30\n",
            "weighted avg       0.97      0.97      0.97        30\n",
            "\n"
          ],
          "name": "stdout"
        }
      ]
    },
    {
      "cell_type": "code",
      "metadata": {
        "id": "csZbONtg451y"
      },
      "source": [
        ""
      ],
      "execution_count": null,
      "outputs": []
    }
  ]
}